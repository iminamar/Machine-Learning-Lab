{
 "cells": [
  {
   "cell_type": "code",
   "execution_count": 1,
   "metadata": {
    "id": "u5vjQiqvHO-R"
   },
   "outputs": [],
   "source": [
    "import random\n",
    "import csv"
   ]
  },
  {
   "cell_type": "code",
   "execution_count": 2,
   "metadata": {
    "id": "yVMGOWtgHO-k"
   },
   "outputs": [],
   "source": [
    "def g_0(n):\n",
    "    return (\"?\",)*n\n",
    "\n",
    "def s_0(n):\n",
    "    return ('0',)*n  "
   ]
  },
  {
   "cell_type": "code",
   "execution_count": 3,
   "metadata": {
    "id": "OXektkVfHO-m",
    "outputId": "13bcde69-94e1-431d-f9c3-bb4b52688d34"
   },
   "outputs": [
    {
     "data": {
      "text/plain": [
       "[(1, 3), (2, 4), (3, 5)]"
      ]
     },
     "execution_count": 3,
     "metadata": {},
     "output_type": "execute_result"
    }
   ],
   "source": [
    "def more_general(h1, h2):\n",
    "    more_general_parts = []\n",
    "    for x, y in zip(h1, h2):\n",
    "        mg = x == \"?\" or (x != \"0\" and (x == y or y == \"0\"))\n",
    "        more_general_parts.append(mg)\n",
    "    return all(more_general_parts)\n",
    "\n",
    "l1 = [1, 2, 3]\n",
    "l2 = [3, 4, 5]\n",
    "\n",
    "list(zip(l1, l2))"
   ]
  },
  {
   "cell_type": "code",
   "execution_count": 4,
   "metadata": {
    "id": "ZTLj4POQHO-r"
   },
   "outputs": [],
   "source": [
    "def fulfills(example, hypothesis):\n",
    "    return more_general(hypothesis, example)\n",
    "\n",
    "def min_generalizations(h, x):\n",
    "    h_new = list(h)\n",
    "    for i in range(len(h)):\n",
    "        if not fulfills(x[i:i+1], h[i:i+1]):\n",
    "            h_new[i] = '?' if h[i] != '0' else x[i]\n",
    "    return [tuple(h_new)]"
   ]
  },
  {
   "cell_type": "code",
   "execution_count": 5,
   "metadata": {
    "id": "J0jKN_seHO-s",
    "outputId": "7cbaf2ea-1f33-43ee-9fc9-a259c1d5a69c"
   },
   "outputs": [
    {
     "data": {
      "text/plain": [
       "[('rainy', 'windy', '?')]"
      ]
     },
     "execution_count": 5,
     "metadata": {},
     "output_type": "execute_result"
    }
   ],
   "source": [
    "min_generalizations(h=('0', '0'  , 'sunny'), \n",
    "                    x=('rainy', 'windy', 'cloudy'))"
   ]
  },
  {
   "cell_type": "code",
   "execution_count": 6,
   "metadata": {
    "id": "3XuwWwjTHO-t"
   },
   "outputs": [],
   "source": [
    "def min_specializations(h, domains, x):\n",
    "    results = []\n",
    "    for i in range(len(h)):\n",
    "        if h[i] == \"?\":\n",
    "            for val in domains[i]:\n",
    "                if x[i] != val:\n",
    "                    h_new = h[:i] + (val,) + h[i+1:]\n",
    "                    results.append(h_new)\n",
    "        elif h[i] != \"0\":\n",
    "            h_new = h[:i] + ('0',) + h[i+1:]\n",
    "            results.append(h_new)\n",
    "    return results"
   ]
  },
  {
   "cell_type": "code",
   "execution_count": 7,
   "metadata": {
    "id": "ZVR2f9NXHO-u",
    "outputId": "bed76bd7-fdbb-4a85-a00d-4ee8c9a20f80"
   },
   "outputs": [
    {
     "data": {
      "text/plain": [
       "[('a', 'x'), ('c', 'x'), ('?', '0')]"
      ]
     },
     "execution_count": 7,
     "metadata": {},
     "output_type": "execute_result"
    }
   ],
   "source": [
    "min_specializations(h=('?', 'x',), \n",
    "                    domains=[['a', 'b', 'c'], ['x', 'y']], \n",
    "                    x=('b', 'x'))"
   ]
  },
  {
   "cell_type": "code",
   "execution_count": 10,
   "metadata": {
    "id": "QEfMibsyHO-v",
    "outputId": "ac755cbc-a4e6-4121-8c68-dc5180e72e64"
   },
   "outputs": [
    {
     "data": {
      "text/plain": [
       "[('Sky', 'AirTemp', 'humidity', 'Wind', 'Water', 'Forecast', 'Enjoysport'),\n",
       " ('sunny', 'Warm', 'Normal', 'Strong', 'Warm', 'Same', 'Yes'),\n",
       " ('sunny', 'Warm', 'High', 'Strong', 'Warm', 'Same', 'Yes'),\n",
       " ('Rainy', 'cold', 'High', 'Strong', 'Warm', 'Change', 'No'),\n",
       " ('sunny', 'Warm', 'High', 'Strong', 'Cool', 'Change', 'Yes')]"
      ]
     },
     "execution_count": 10,
     "metadata": {},
     "output_type": "execute_result"
    }
   ],
   "source": [
    "with open('candi.csv')  as csvFile:\n",
    "        examples = [tuple(line) for line in csv.reader(csvFile)]\n",
    "\n",
    "\n",
    "examples"
   ]
  },
  {
   "cell_type": "code",
   "execution_count": 11,
   "metadata": {
    "id": "u85J3z4PHO-w",
    "outputId": "132246e8-0960-49b7-9ec1-2d2e9bc6ed49"
   },
   "outputs": [
    {
     "data": {
      "text/plain": [
       "[['Rainy', 'Sky', 'sunny'],\n",
       " ['AirTemp', 'Warm', 'cold'],\n",
       " ['High', 'Normal', 'humidity'],\n",
       " ['Strong', 'Wind'],\n",
       " ['Cool', 'Warm', 'Water'],\n",
       " ['Change', 'Forecast', 'Same'],\n",
       " ['Enjoysport', 'No', 'Yes']]"
      ]
     },
     "execution_count": 11,
     "metadata": {},
     "output_type": "execute_result"
    }
   ],
   "source": [
    "def get_domains(examples):\n",
    "    d = [set() for i in examples[0]]\n",
    "    for x in examples:\n",
    "        for i, xi in enumerate(x):\n",
    "            d[i].add(xi)\n",
    "    return [list(sorted(x)) for x in d]\n",
    "\n",
    "get_domains(examples)"
   ]
  },
  {
   "cell_type": "code",
   "execution_count": 12,
   "metadata": {
    "id": "_nQv18orHO-w"
   },
   "outputs": [],
   "source": [
    "def candidate_elimination(examples):\n",
    "    domains = get_domains(examples)[:-1]\n",
    "    \n",
    "    G = set([g_0(len(domains))])\n",
    "    S = set([s_0(len(domains))])\n",
    "    i=0\n",
    "    print(\"\\n G[{0}]:\".format(i),G)\n",
    "    print(\"\\n S[{0}]:\".format(i),S)\n",
    "    for xcx in examples:\n",
    "        i=i+1\n",
    "        x, cx = xcx[:-1], xcx[-1]  \n",
    "        if cx=='Y':\n",
    "            G = {g for g in G if fulfills(x, g)}\n",
    "            S = generalize_S(x, G, S)\n",
    "        else: \n",
    "            S = {s for s in S if not fulfills(x, s)}\n",
    "            G = specialize_G(x, domains, G, S)\n",
    "        print(\"\\n G[{0}]:\".format(i),G)\n",
    "        print(\"\\n S[{0}]:\".format(i),S)\n",
    "    return "
   ]
  },
  {
   "cell_type": "code",
   "execution_count": 13,
   "metadata": {
    "id": "QuVOCVKMHO-x"
   },
   "outputs": [],
   "source": [
    "def generalize_S(x, G, S):\n",
    "    S_prev = list(S)\n",
    "    for s in S_prev:\n",
    "        if s not in S:\n",
    "            continue\n",
    "        if not fulfills(x, s):\n",
    "            S.remove(s)\n",
    "            Splus = min_generalizations(s, x)\n",
    "            S.update([h for h in Splus if any([more_general(g,h) for g in G])])\n",
    "            S.difference_update([h for h in S if \n",
    "                                 any([more_general(h, h1) \n",
    "                                      for h1 in S if h != h1])])\n",
    "    return S"
   ]
  },
  {
   "cell_type": "code",
   "execution_count": 14,
   "metadata": {
    "id": "UV5QbsnMHO-y"
   },
   "outputs": [],
   "source": [
    "def specialize_G(x, domains, G, S):\n",
    "    G_prev = list(G)\n",
    "    for g in G_prev:\n",
    "        if g not in G:\n",
    "            continue\n",
    "        if fulfills(x, g):\n",
    "            G.remove(g)\n",
    "            Gminus = min_specializations(g, domains, x)\n",
    "            G.update([h for h in Gminus if any([more_general(h, s) for s in S])])\n",
    "            G.difference_update([h for h in G if \n",
    "                                 any([more_general(g1, h) \n",
    "                                      for g1 in G if h != g1])])\n",
    "    return G"
   ]
  },
  {
   "cell_type": "code",
   "execution_count": null,
   "metadata": {
    "id": "RULqdAteHO-y",
    "outputId": "75824e4e-25fc-4a8e-de03-4e2df2c2db92"
   },
   "outputs": [
    {
     "name": "stdout",
     "output_type": "stream",
     "text": [
      "\n",
      " G[0]: {('?', '?', '?', '?', '?', '?')}\n",
      "\n",
      " S[0]: {('0', '0', '0', '0', '0', '0')}\n",
      "\n",
      " G[1]: {('?', 'Warm', '?', '?', '?', '?'), ('?', '?', '?', '?', 'Cool', '?'), ('sunny', '?', '?', '?', '?', '?'), ('?', 'cold', '?', '?', '?', '?'), ('?', '?', '?', '?', '?', 'Same'), ('?', '?', '?', '?', '?', 'Change'), ('?', '?', '?', 'Strong', '?', '?'), ('?', '?', '?', '?', 'Warm', '?'), ('?', '?', 'High', '?', '?', '?'), ('?', '?', 'Normal', '?', '?', '?'), ('Rainy', '?', '?', '?', '?', '?')}\n",
      "\n",
      " S[1]: {('0', '0', '0', '0', '0', '0')}\n",
      "\n",
      " G[2]: {('?', '?', '?', '?', 'Cool', '?'), ('?', '?', 'Normal', 'Wind', '?', '?'), ('?', 'cold', '?', '?', '?', '?'), ('?', '?', '?', '?', '?', 'Change'), ('?', '?', 'Normal', '?', '?', 'Forecast'), ('?', '?', 'humidity', '?', 'Warm', '?'), ('?', '?', '?', 'Strong', '?', 'Forecast'), ('?', '?', '?', '?', 'Water', 'Same'), ('sunny', '?', '?', '?', 'Water', '?'), ('?', '?', '?', 'Wind', '?', 'Same'), ('Sky', '?', '?', '?', '?', 'Same'), ('sunny', 'AirTemp', '?', '?', '?', '?'), ('sunny', '?', '?', '?', '?', 'Forecast'), ('?', 'AirTemp', '?', '?', 'Warm', '?'), ('?', 'AirTemp', '?', '?', '?', 'Same'), ('?', 'Warm', 'humidity', '?', '?', '?'), ('?', '?', 'High', '?', '?', '?'), ('?', '?', '?', '?', 'Warm', 'Forecast'), ('?', '?', 'humidity', 'Strong', '?', '?'), ('?', '?', 'humidity', '?', '?', 'Same'), ('?', 'AirTemp', '?', 'Strong', '?', '?'), ('Sky', '?', '?', 'Strong', '?', '?'), ('?', '?', '?', 'Strong', 'Water', '?'), ('sunny', '?', '?', 'Wind', '?', '?'), ('Sky', '?', 'Normal', '?', '?', '?'), ('Sky', '?', '?', '?', 'Warm', '?'), ('?', 'Warm', '?', '?', 'Water', '?'), ('Sky', 'Warm', '?', '?', '?', '?'), ('?', 'Warm', '?', 'Wind', '?', '?'), ('Rainy', '?', '?', '?', '?', '?'), ('?', '?', '?', 'Wind', 'Warm', '?'), ('?', 'AirTemp', 'Normal', '?', '?', '?'), ('?', 'Warm', '?', '?', '?', 'Forecast'), ('sunny', '?', 'humidity', '?', '?', '?'), ('?', '?', 'Normal', '?', 'Water', '?')}\n",
      "\n",
      " S[2]: {('0', '0', '0', '0', '0', '0')}\n",
      "\n",
      " G[3]: {('?', '?', '?', '?', 'Cool', '?'), ('?', '?', 'Normal', 'Wind', '?', '?'), ('Sky', '?', 'High', '?', '?', '?'), ('?', 'cold', '?', '?', '?', '?'), ('?', '?', 'High', '?', 'Water', '?'), ('?', '?', '?', '?', '?', 'Change'), ('?', '?', 'Normal', '?', '?', 'Forecast'), ('?', 'AirTemp', 'High', '?', '?', '?'), ('?', '?', 'humidity', '?', 'Warm', '?'), ('?', '?', '?', 'Strong', '?', 'Forecast'), ('?', '?', '?', '?', 'Water', 'Same'), ('sunny', '?', '?', '?', 'Water', '?'), ('?', '?', '?', 'Wind', '?', 'Same'), ('Sky', '?', '?', '?', '?', 'Same'), ('sunny', 'AirTemp', '?', '?', '?', '?'), ('sunny', '?', '?', '?', '?', 'Forecast'), ('?', 'AirTemp', '?', '?', 'Warm', '?'), ('?', 'AirTemp', '?', '?', '?', 'Same'), ('?', 'Warm', 'humidity', '?', '?', '?'), ('?', '?', '?', '?', 'Warm', 'Forecast'), ('?', '?', 'humidity', 'Strong', '?', '?'), ('?', '?', 'humidity', '?', '?', 'Same'), ('?', '?', 'High', 'Wind', '?', '?'), ('?', 'AirTemp', '?', 'Strong', '?', '?'), ('Sky', '?', '?', 'Strong', '?', '?'), ('?', '?', '?', 'Strong', 'Water', '?'), ('sunny', '?', '?', 'Wind', '?', '?'), ('Sky', '?', 'Normal', '?', '?', '?'), ('Sky', '?', '?', '?', 'Warm', '?'), ('?', 'Warm', '?', '?', 'Water', '?'), ('Sky', 'Warm', '?', '?', '?', '?'), ('?', 'Warm', '?', 'Wind', '?', '?'), ('Rainy', '?', '?', '?', '?', '?'), ('?', '?', '?', 'Wind', 'Warm', '?'), ('?', '?', 'High', '?', '?', 'Forecast'), ('?', 'AirTemp', 'Normal', '?', '?', '?'), ('?', 'Warm', '?', '?', '?', 'Forecast'), ('sunny', '?', 'humidity', '?', '?', '?'), ('?', '?', 'Normal', '?', 'Water', '?')}\n",
      "\n",
      " S[3]: {('0', '0', '0', '0', '0', '0')}\n",
      "\n",
      " G[4]: {('?', '?', '?', '?', 'Cool', '?'), ('?', '?', 'Normal', 'Wind', '?', '?'), ('Sky', 'cold', '?', '?', '?', '?'), ('?', '?', 'Normal', '?', '?', 'Change'), ('?', '?', 'Normal', '?', '?', 'Forecast'), ('?', 'AirTemp', 'High', '?', '?', '?'), ('?', 'cold', '?', 'Wind', '?', '?'), ('?', '?', 'humidity', '?', 'Warm', '?'), ('?', 'cold', 'Normal', '?', '?', '?'), ('?', '?', '?', 'Wind', '?', 'Same'), ('?', '?', 'humidity', '?', '?', 'Change'), ('Sky', '?', '?', '?', '?', 'Same'), ('sunny', 'AirTemp', '?', '?', '?', '?'), ('?', 'AirTemp', '?', '?', 'Warm', '?'), ('sunny', '?', '?', '?', '?', 'Change'), ('?', 'cold', 'humidity', '?', '?', '?'), ('?', 'AirTemp', '?', '?', '?', 'Same'), ('?', '?', 'High', 'Wind', '?', '?'), ('?', '?', '?', 'Strong', 'Water', '?'), ('sunny', '?', '?', 'Wind', '?', '?'), ('Sky', '?', 'Normal', '?', '?', '?'), ('?', 'Warm', '?', '?', 'Water', '?'), ('?', '?', '?', 'Wind', 'Warm', '?'), ('Rainy', '?', 'Normal', '?', '?', '?'), ('?', 'Warm', '?', '?', '?', 'Forecast'), ('?', 'AirTemp', '?', '?', '?', 'Change'), ('sunny', '?', 'humidity', '?', '?', '?'), ('Rainy', 'AirTemp', '?', '?', '?', '?'), ('?', '?', 'Normal', '?', 'Water', '?'), ('Sky', '?', 'High', '?', '?', '?'), ('?', '?', 'High', '?', 'Water', '?'), ('Rainy', '?', 'humidity', '?', '?', '?'), ('?', 'cold', '?', '?', 'Water', '?'), ('?', '?', '?', 'Strong', '?', 'Forecast'), ('?', 'cold', '?', '?', '?', 'Same'), ('?', '?', '?', '?', 'Water', 'Same'), ('sunny', '?', '?', '?', 'Water', '?'), ('sunny', '?', '?', '?', '?', 'Forecast'), ('?', '?', '?', '?', 'Water', 'Change'), ('?', 'cold', '?', '?', '?', 'Forecast'), ('Rainy', 'Warm', '?', '?', '?', '?'), ('?', 'Warm', '?', '?', '?', 'Change'), ('?', 'Warm', 'humidity', '?', '?', '?'), ('Rainy', '?', '?', '?', '?', 'Forecast'), ('?', '?', '?', '?', 'Warm', 'Forecast'), ('?', '?', 'humidity', 'Strong', '?', '?'), ('?', '?', 'humidity', '?', '?', 'Same'), ('?', '?', '?', 'Wind', '?', 'Change'), ('Rainy', '?', '?', 'Wind', '?', '?'), ('Rainy', '?', '?', '?', '?', 'Same'), ('?', 'AirTemp', '?', 'Strong', '?', '?'), ('Sky', '?', '?', 'Strong', '?', '?'), ('Sky', '?', '?', '?', 'Warm', '?'), ('Sky', 'Warm', '?', '?', '?', '?'), ('?', 'Warm', '?', 'Wind', '?', '?'), ('?', '?', 'High', '?', '?', 'Forecast'), ('Rainy', '?', '?', '?', 'Water', '?'), ('Sky', '?', '?', '?', '?', 'Change'), ('?', 'AirTemp', 'Normal', '?', '?', '?'), ('sunny', 'cold', '?', '?', '?', '?')}\n",
      "\n",
      " S[4]: {('0', '0', '0', '0', '0', '0')}\n",
      "\n",
      " G[5]: {('?', '?', 'Normal', 'Wind', '?', '?'), ('Sky', 'cold', '?', '?', '?', '?'), ('?', '?', 'Normal', '?', '?', 'Change'), ('?', '?', 'Normal', '?', '?', 'Forecast'), ('?', 'AirTemp', 'High', '?', '?', '?'), ('?', 'cold', '?', 'Wind', '?', '?'), ('?', '?', 'humidity', '?', 'Warm', '?'), ('?', 'cold', 'Normal', '?', '?', '?'), ('?', '?', '?', '?', 'Cool', 'Same'), ('?', '?', '?', 'Wind', '?', 'Same'), ('?', '?', 'humidity', '?', '?', 'Change'), ('Sky', '?', '?', '?', '?', 'Same'), ('sunny', 'AirTemp', '?', '?', '?', '?'), ('?', 'AirTemp', '?', '?', 'Warm', '?'), ('?', '?', '?', '?', 'Cool', 'Forecast'), ('?', 'cold', '?', '?', 'Cool', '?'), ('?', 'cold', 'humidity', '?', '?', '?'), ('?', 'AirTemp', '?', '?', '?', 'Same'), ('?', 'AirTemp', '?', '?', 'Cool', '?'), ('?', '?', 'Normal', '?', 'Cool', '?'), ('sunny', '?', '?', '?', 'Warm', 'Change'), ('?', '?', 'High', 'Wind', '?', '?'), ('?', '?', '?', 'Strong', 'Water', '?'), ('sunny', '?', '?', 'Wind', '?', '?'), ('Sky', '?', 'Normal', '?', '?', '?'), ('?', 'Warm', '?', '?', 'Water', '?'), ('?', '?', '?', 'Wind', 'Warm', '?'), ('Rainy', '?', 'Normal', '?', '?', '?'), ('?', 'Warm', '?', '?', '?', 'Forecast'), ('?', 'AirTemp', '?', '?', '?', 'Change'), ('sunny', '?', 'humidity', '?', '?', '?'), ('Rainy', 'AirTemp', '?', '?', '?', '?'), ('?', '?', 'Normal', '?', 'Water', '?'), ('Sky', '?', 'High', '?', '?', '?'), ('Sky', '?', '?', '?', 'Cool', '?'), ('?', '?', 'High', '?', 'Water', '?'), ('Rainy', '?', 'humidity', '?', '?', '?'), ('?', 'cold', '?', '?', 'Water', '?'), ('?', '?', '?', 'Strong', '?', 'Forecast'), ('?', 'cold', '?', '?', '?', 'Same'), ('?', '?', '?', '?', 'Water', 'Same'), ('sunny', '?', '?', '?', 'Water', '?'), ('Rainy', '?', '?', '?', 'Cool', '?'), ('?', '?', 'humidity', '?', 'Cool', '?'), ('sunny', '?', '?', '?', '?', 'Forecast'), ('?', '?', '?', '?', 'Water', 'Change'), ('?', 'cold', '?', '?', '?', 'Forecast'), ('Rainy', 'Warm', '?', '?', '?', '?'), ('?', 'Warm', 'humidity', '?', '?', '?'), ('?', '?', '?', 'Wind', 'Cool', '?'), ('Rainy', '?', '?', '?', '?', 'Forecast'), ('?', '?', '?', '?', 'Warm', 'Forecast'), ('?', '?', 'humidity', 'Strong', '?', '?'), ('?', 'Warm', '?', '?', 'Warm', 'Change'), ('?', '?', 'humidity', '?', '?', 'Same'), ('?', '?', '?', 'Wind', '?', 'Change'), ('Rainy', '?', '?', 'Wind', '?', '?'), ('Rainy', '?', '?', '?', '?', 'Same'), ('?', 'AirTemp', '?', 'Strong', '?', '?'), ('Sky', '?', '?', 'Strong', '?', '?'), ('Sky', '?', '?', '?', 'Warm', '?'), ('Sky', 'Warm', '?', '?', '?', '?'), ('?', 'Warm', '?', 'Wind', '?', '?'), ('?', '?', 'High', '?', '?', 'Forecast'), ('Rainy', '?', '?', '?', 'Water', '?'), ('Sky', '?', '?', '?', '?', 'Change'), ('?', 'AirTemp', 'Normal', '?', '?', '?'), ('sunny', 'cold', '?', '?', '?', '?')}\n",
      "\n",
      " S[5]: {('0', '0', '0', '0', '0', '0')}\n"
     ]
    }
   ],
   "source": [
    "candidate_elimination(examples)"
   ]
  },
  {
   "cell_type": "code",
   "execution_count": null,
   "metadata": {
    "id": "OpibpC_hHO-z"
   },
   "outputs": [],
   "source": []
  }
 ],
 "metadata": {
  "colab": {
   "name": "q2_cand_elm.ipynb",
   "provenance": []
  },
  "kernelspec": {
   "display_name": "Python 3 (ipykernel)",
   "language": "python",
   "name": "python3"
  },
  "language_info": {
   "codemirror_mode": {
    "name": "ipython",
    "version": 3
   },
   "file_extension": ".py",
   "mimetype": "text/x-python",
   "name": "python",
   "nbconvert_exporter": "python",
   "pygments_lexer": "ipython3",
   "version": "3.11.2"
  }
 },
 "nbformat": 4,
 "nbformat_minor": 1
}
