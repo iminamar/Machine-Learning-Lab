{
 "cells": [
  {
   "cell_type": "code",
   "execution_count": 1,
   "metadata": {},
   "outputs": [],
   "source": [
    "import numpy as np\n",
    "import matplotlib.pyplot as plt"
   ]
  },
  {
   "cell_type": "code",
   "execution_count": 2,
   "metadata": {},
   "outputs": [],
   "source": [
    "dataset_name = \"ionosphere.data\"\n",
    "lr = .1\n",
    "batch_size = 16\n",
    "n_iterations = 10000\n",
    "patience = 2\n",
    "min_delta = 1e-2"
   ]
  },
  {
   "cell_type": "code",
   "execution_count": 3,
   "metadata": {},
   "outputs": [],
   "source": [
    "sigmoid = lambda z : 1 / (1 + np.exp(-z))\n",
    "logloss = lambda y_hat, y : np.sum(-y * np.log(y_hat) - (1 - y) * np.log(1 - y_hat)) / len(y_hat)"
   ]
  },
  {
   "cell_type": "code",
   "execution_count": 4,
   "metadata": {},
   "outputs": [],
   "source": [
    "def gradient_descent(X, y, beta, lr):\n",
    "    y = y.reshape(-1, 1)\n",
    "    gradients = np.dot(X.T, sigmoid(np.dot(X, beta.T)) - y) / len(y)\n",
    "    new_betas = beta - lr * gradients.T\n",
    "\n",
    "    return new_betas"
   ]
  },
  {
   "cell_type": "code",
   "execution_count": 5,
   "metadata": {},
   "outputs": [],
   "source": [
    "def prepare_batches(X, y, batch_size):\n",
    "    X_batch_list = list()\n",
    "    y_batch_list = list()\n",
    "    \n",
    "    for i in range(len(y) // batch_size):\n",
    "        X_batch_list.append(X[i * batch_size : i * batch_size + batch_size, :])\n",
    "        y_batch_list.append(y[i * batch_size : i * batch_size + batch_size])\n",
    "    \n",
    "    if len(y) % batch_size > 0:\n",
    "        X_batch_list.append(X[len(y) // batch_size * batch_size:, :])\n",
    "        y_batch_list.append(y[len(y) // batch_size * batch_size:])\n",
    "\n",
    "    return X_batch_list, y_batch_list"
   ]
  },
  {
   "cell_type": "code",
   "execution_count": 6,
   "metadata": {},
   "outputs": [],
   "source": [
    "predict = lambda X: sigmoid(np.dot(X, betas.T)) > .5\n",
    "predict_with_output = lambda X: (X > .5) * 1"
   ]
  },
  {
   "cell_type": "code",
   "execution_count": 8,
   "metadata": {},
   "outputs": [],
   "source": [
    "f = open(dataset_name, \"r\")\n",
    "\n",
    "X = list()\n",
    "y = list()\n",
    "\n",
    "encode_char = \"\"\n",
    "encoder = lambda y : 0 if y is encode_char else 1\n",
    "\n",
    "for row in f:\n",
    "    split_row = [x.strip() for x in row.split(',')]\n",
    "    if encode_char is \"\":\n",
    "        encode_char = split_row[-1]\n",
    "    y.append(encoder(split_row[-1]))\n",
    "    X.append([np.array(split_row[:-1]).astype(np.float)])"
   ]
  },
  {
   "cell_type": "code",
   "execution_count": 9,
   "metadata": {},
   "outputs": [
    {
     "name": "stdout",
     "output_type": "stream",
     "text": [
      "[array([ 1.     ,  0.     ,  0.99539, -0.05889,  0.85243,  0.02306,\n",
      "        0.83398, -0.37708,  1.     ,  0.0376 ,  0.85243, -0.17755,\n",
      "        0.59755, -0.44945,  0.60536, -0.38223,  0.84356, -0.38542,\n",
      "        0.58212, -0.32192,  0.56971, -0.29674,  0.36946, -0.47357,\n",
      "        0.56811, -0.51171,  0.41078, -0.46168,  0.21266, -0.3409 ,\n",
      "        0.42267, -0.54487,  0.18641, -0.453  ])]\n",
      "0\n"
     ]
    }
   ],
   "source": [
    "print(X[0])\n",
    "print(y[0])"
   ]
  },
  {
   "cell_type": "code",
   "execution_count": 11,
   "metadata": {},
   "outputs": [],
   "source": [
    "permutations = np.random.permutation(len(X))\n",
    "\n",
    "X, y = np.asarray(X).squeeze(), np.asarray(y)\n",
    "\n",
    "X = X[permutations, :]\n",
    "y = y[permutations]\n",
    "\n",
    "#To add beta 0\n",
    "temp = np.ones((X.shape[0], X.shape[1] + 1))\n",
    "temp[:, 1:] = X\n",
    "X = temp\n",
    "\n",
    "len_test = len(X) // 5 \n",
    "len_train = len(X) - len_test\n",
    "X_test, y_test, X_train, y_train = X[:len_test, :], y[:len_test], X[len_test:, :], y[len_test:]"
   ]
  },
  {
   "cell_type": "code",
   "execution_count": 12,
   "metadata": {},
   "outputs": [
    {
     "name": "stdout",
     "output_type": "stream",
     "text": [
      "Shape of X matrix is: (351, 35)\n",
      "Shape of y matrix is: (351,)\n",
      "Shape of X_test matrix is: (351, 35)\n",
      "Shape of y_test matrix is: (351, 35)\n",
      "Shape of X_train matrix is: (351, 35)\n",
      "Shape of y_train matrix is: (351, 35)\n",
      "Desired samples feature vector: [ 1.       1.       0.       0.95202  0.02254  0.93757 -0.01272  0.93526\n",
      "  0.01214  0.96705 -0.01734  0.96936  0.0052   0.95665 -0.03064  0.9526\n",
      " -0.00405  0.9948  -0.02659  0.99769  0.01792  0.93584 -0.04971  0.93815\n",
      " -0.0237   0.97052 -0.04451  0.96215 -0.01647  0.97399  0.01908  0.95434\n",
      " -0.0341   0.95838  0.00809]\n",
      "Desired samples ground truth: 0\n"
     ]
    }
   ],
   "source": [
    "print(\"Shape of X matrix is: \" + str(X.shape))\n",
    "print(\"Shape of y matrix is: \" + str(y.shape))\n",
    "print(\"Shape of X_test matrix is: \" + str(X.shape))\n",
    "print(\"Shape of y_test matrix is: \" + str(X.shape))\n",
    "print(\"Shape of X_train matrix is: \" + str(X.shape))\n",
    "print(\"Shape of y_train matrix is: \" + str(X.shape))\n",
    "\n",
    "print(\"Desired samples feature vector: \" + str(X[2]))\n",
    "print(\"Desired samples ground truth: \" + str(y[2]))"
   ]
  },
  {
   "cell_type": "code",
   "execution_count": 13,
   "metadata": {},
   "outputs": [],
   "source": [
    "betas = np.random.random(X.shape[1]).reshape(1, -1)"
   ]
  },
  {
   "cell_type": "code",
   "execution_count": 14,
   "metadata": {},
   "outputs": [],
   "source": [
    "train_error_hist = list()\n",
    "test_error_hist = list()\n",
    "test_acc_hist = list()\n",
    "\n",
    "X_batch_list, y_batch_list = prepare_batches(X_train, y_train, batch_size)\n",
    "\n",
    "n_batches = len(y_batch_list)\n",
    "\n",
    "prev_average = 10000\n",
    "\n",
    "patience_counter = 0\n",
    "iteration_counter = 0 \n",
    "while iteration_counter < n_iterations:\n",
    "    for i in range(n_batches):\n",
    "        X_batch = X_batch_list[i]\n",
    "        y_batch = y_batch_list[i]\n",
    "\n",
    "        betas = gradient_descent(X_batch, y_batch, betas, lr)\n",
    "        \n",
    "        y_hat = sigmoid(np.dot(X_batch, betas.T))\n",
    "        train_error_hist.append(logloss(y_hat, y_batch) / len(y_batch))\n",
    "              \n",
    "        y_hat = sigmoid(np.dot(X_test, betas.T))\n",
    "        test_error_hist.append(logloss(y_hat, y_test) / len(y_test))\n",
    "        test_acc_hist.append(np.mean((predict_with_output(y_hat) == y_test.reshape(-1, 1)) * 1))\n",
    "          \n",
    "        iteration_counter += 1\n",
    "        \n",
    "    current_average = np.mean(train_error_hist[-n_batches:])\n",
    "        \n",
    "    if np.abs(prev_average - current_average) < min_delta:\n",
    "        patience_counter += 1\n",
    "    else:\n",
    "         patience_counter = 0\n",
    "        \n",
    "    prev_average = current_average\n",
    "    \n",
    "    if patience_counter == patience:\n",
    "        break"
   ]
  },
  {
   "cell_type": "code",
   "execution_count": 15,
   "metadata": {},
   "outputs": [
    {
     "data": {
      "text/plain": [
       "<matplotlib.legend.Legend at 0x22e7fea7b00>"
      ]
     },
     "execution_count": 15,
     "metadata": {},
     "output_type": "execute_result"
    },
    {
     "data": {
      "image/png": "[encoded data removed]",
      "text/plain": [
       "<Figure size 432x288 with 1 Axes>"
      ]
     },
     "metadata": {
      "needs_background": "light"
     },
     "output_type": "display_data"
    }
   ],
   "source": [
    "plt.plot(test_error_hist)\n",
    "plt.plot(train_error_hist)\n",
    "plt.xlabel(\"#Iterations\")\n",
    "plt.ylabel(\"Total Loss\")\n",
    "plt.title(\"Loss vs Number of iterations\")\n",
    "plt.legend((\"Test error\", \"Train error\"))"
   ]
  },
  {
   "cell_type": "code",
   "execution_count": 16,
   "metadata": {},
   "outputs": [
    {
     "data": {
      "text/plain": [
       "Text(0.5, 1.0, 'Accuracy vs Number of iterations')"
      ]
     },
     "execution_count": 16,
     "metadata": {},
     "output_type": "execute_result"
    },
    {
     "data": {
      "image/png": "[encoded data removed]",
      "text/plain": [
       "<Figure size 432x288 with 1 Axes>"
      ]
     },
     "metadata": {
      "needs_background": "light"
     },
     "output_type": "display_data"
    }
   ],
   "source": [
    "plt.plot(test_acc_hist)\n",
    "plt.xlabel(\"#Iterations\")\n",
    "plt.ylabel(\"Accuracy\")\n",
    "plt.title(\"Accuracy vs Number of iterations\")"
   ]
  },
  {
   "cell_type": "code",
   "execution_count": null,
   "metadata": {},
   "outputs": [],
   "source": []
  }
 ],
 "metadata": {
  "kernelspec": {
   "display_name": "Python 3",
   "language": "python",
   "name": "python3"
  },
  "language_info": {
   "codemirror_mode": {
    "name": "ipython",
    "version": 3
   },
   "file_extension": ".py",
   "mimetype": "text/x-python",
   "name": "python",
   "nbconvert_exporter": "python",
   "pygments_lexer": "ipython3",
   "version": "3.7.6"
  }
 },
 "nbformat": 4,
 "nbformat_minor": 2
}
