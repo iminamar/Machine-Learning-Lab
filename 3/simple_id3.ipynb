{
 "cells": [
  {
   "cell_type": "code",
   "execution_count": 1,
   "metadata": {
    "id": "OASOfAlpHwCC"
   },
   "outputs": [],
   "source": [
    "import numpy as np\n",
    "import pandas as pd\n",
    "import math\n",
    "from pprint import pprint\n",
    "d = pd.read_csv('3.csv',names=['outlook','temp','humidity','wind','play'])"
   ]
  },
  {
   "cell_type": "code",
   "execution_count": 2,
   "metadata": {
    "id": "xq4Q5XqBHwCH"
   },
   "outputs": [],
   "source": [
    "def entropy(target_col):\n",
    "    elements,counts = np.unique(target_col,return_counts = True)\n",
    "    entropy = np.sum([(-counts[i]/np.sum(counts))*np.log2(counts[i]/np.sum(counts)) for i in range(len(elements))])\n",
    "    return entropy"
   ]
  },
  {
   "cell_type": "code",
   "execution_count": 3,
   "metadata": {
    "id": "TzEtL7dvHwCI"
   },
   "outputs": [],
   "source": [
    "def InfoGain(data,split_attribute_name,target_name=\"play\"):\n",
    "    \n",
    "    total_entropy = entropy(data[target_name]) \n",
    "    \n",
    "    vals,counts= np.unique(data[split_attribute_name],return_counts=True)\n",
    "    \n",
    "    Weighted_Entropy = np.sum([(counts[i]/np.sum(counts))*entropy(data.where(data[split_attribute_name]==vals[i]).dropna()[target_name]) for i in range(len(vals))])\n",
    "    \n",
    "    Information_Gain = total_entropy - Weighted_Entropy\n",
    "    \n",
    "    return Information_Gain"
   ]
  },
  {
   "cell_type": "code",
   "execution_count": 4,
   "metadata": {
    "colab": {
     "base_uri": "https://localhost:8080/"
    },
    "id": "juCvFW6HHwCI",
    "outputId": "961416e5-22ab-4065-b28d-f1e65b5fc8d1",
    "scrolled": false
   },
   "outputs": [
    {
     "name": "stdout",
     "output_type": "stream",
     "text": [
      "{'wind': {'Change': {'humidity': {'Cool': 'Yes', 'Warm': 'No'}},\n",
      "          'Forecast': 'Enjoysport',\n",
      "          'Same': 'Yes'}}\n"
     ]
    }
   ],
   "source": [
    "def id3(data,original_data,features,target_attribute_name='play',parent=None,link=None):\n",
    "    if len(np.unique(data[target_attribute_name])) <= 1:\n",
    "        return np.unique(data[target_attribute_name])[0]\n",
    "    \n",
    "    parent_node_class = np.unique(data[target_attribute_name])[np.argmax(np.unique(data[target_attribute_name],return_counts=True)[1])]\n",
    "    item_values = [InfoGain(data,feature,target_attribute_name) for feature in features] \n",
    "    best_feature_index = np.argmax(item_values)\n",
    "    best_feature = features[best_feature_index]\n",
    "    tree = {best_feature:{}}\n",
    "        \n",
    "    feature = [i for i in features if i != best_feature]\n",
    "    for value in np.unique(data[best_feature]):\n",
    "        value = value\n",
    "        if value!='Outlook':\n",
    "            sub_data = data.where(data[best_feature] == value).dropna()\n",
    "            subtree = id3(sub_data,d,features,target_attribute_name,parent_node_class)\n",
    "            tree[best_feature][value] = subtree\n",
    "            \n",
    "    return(tree)\n",
    "training_data = d\n",
    "tree = id3(training_data,training_data,training_data.columns[:-1])\n",
    "pprint(tree)\n",
    "    "
   ]
  },
  {
   "cell_type": "code",
   "execution_count": 5,
   "metadata": {
    "id": "ujI_XNI8HwCK"
   },
   "outputs": [],
   "source": [
    "def splitinfo(data,split_attribute_name,target_name=\"play\"):\n",
    "    vals,counts= np.unique(data[split_attribute_name],return_counts=True)\n",
    "    Weighted_Entropy = np.sum([(-counts[i]/np.sum(counts))*np.log2(counts[i]/np.sum(counts)) for i in range(len(vals))])\n",
    "    print(Weighted_Entropy)\n",
    "    return Weighted_Entropy"
   ]
  },
  {
   "cell_type": "code",
   "execution_count": 6,
   "metadata": {
    "id": "7ClyWyFWHwCK"
   },
   "outputs": [],
   "source": [
    "def GainRatio(data,split_attribute_name,target_name=\"play\"):\n",
    "        for i in range(len(vals)):\n",
    "            splitinfo = np.sum([(-counts[i]/np.sum(counts))*np.log2(counts[i]/np.sum(counts))])\n",
    "            gainr = InfoGain1splitinfo\n",
    "        return gainr\n"
   ]
  },
  {
   "cell_type": "code",
   "execution_count": 7,
   "metadata": {
    "id": "g8kbHvk4HwCL"
   },
   "outputs": [],
   "source": [
    "def InfoGain1(data,split_attribute_name,target_name=\"play\"):\n",
    "   \n",
    "        total_entropy = entropy(data[target_name])\n",
    "    \n",
    "        vals,counts= np.unique(data[split_attribute_name],return_counts=True)\n",
    "    \n",
    "        Weighted_Entropy = np.sum([(counts[i]/np.sum(counts))*entropy(data.where(data[split_attribute_name]==vals[i]).dropna()[target_name]) for i in range(len(vals))])\n",
    "\n",
    "        Information_Gain = (total_entropy - Weighted_Entropy)\n",
    "        return Information_Gain\n"
   ]
  },
  {
   "cell_type": "code",
   "execution_count": 8,
   "metadata": {
    "colab": {
     "base_uri": "https://localhost:8080/"
    },
    "id": "rV3TNWMvHwCM",
    "outputId": "60ca8f45-36bb-4f03-9453-3dc5769c2b17"
   },
   "outputs": [
    {
     "name": "stdout",
     "output_type": "stream",
     "text": [
      "{'wind': {'Change': {'humidity': {'Cool': 'Yes', 'Warm': 'No'}},\n",
      "          'Forecast': 'Enjoysport',\n",
      "          'Same': 'Yes'}}\n"
     ]
    }
   ],
   "source": [
    "def C4(data,originaldata,features,target_attribute_name=\"play\",parent_node_class = None):\n",
    "    \n",
    "    if len(np.unique(data[target_attribute_name])) <= 1:\n",
    "        return np.unique(data[target_attribute_name])[0]\n",
    "    elif len(data)==0:\n",
    "        return \n",
    "    elif len(features) ==0:\n",
    "        return parent_node_class\n",
    "    else:\n",
    "        parent_node_class = np.unique(data[target_attribute_name])[np.argmax(np.unique(data[target_attribute_name],return_counts=True)[1])]\n",
    "        item_values = [InfoGain1(data,feature,target_attribute_name) for feature in features] \n",
    "        best_feature_index = np.argmax(item_values)\n",
    "        best_feature = features[best_feature_index]\n",
    "        tree = {best_feature:{}}\n",
    "        features = [i for i in features if i != best_feature]\n",
    "        \n",
    "        \n",
    "        for value in np.unique(data[best_feature]):\n",
    "            value = value\n",
    "            if value !='outlook':\n",
    "                sub_data = data.where(data[best_feature] == value).dropna()\n",
    "\n",
    "                subtree = ID3(sub_data,d,features,target_attribute_name,parent_node_class)\n",
    "\n",
    "                tree[best_feature][value] = subtree\n",
    "            \n",
    "        return(tree)\n",
    "training_data = d\n",
    "tree = id3(training_data,training_data,training_data.columns[:-1])\n",
    "pprint(tree)\n",
    "    \n",
    "    \n"
   ]
  },
  {
   "cell_type": "code",
   "execution_count": null,
   "metadata": {},
   "outputs": [],
   "source": []
  }
 ],
 "metadata": {
  "colab": {
   "name": "simple_id3.ipynb",
   "provenance": []
  },
  "kernelspec": {
   "display_name": "Python 3 (ipykernel)",
   "language": "python",
   "name": "python3"
  },
  "language_info": {
   "codemirror_mode": {
    "name": "ipython",
    "version": 3
   },
   "file_extension": ".py",
   "mimetype": "text/x-python",
   "name": "python",
   "nbconvert_exporter": "python",
   "pygments_lexer": "ipython3",
   "version": "3.11.2"
  }
 },
 "nbformat": 4,
 "nbformat_minor": 1
}
